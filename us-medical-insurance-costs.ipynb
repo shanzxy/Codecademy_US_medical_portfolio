{
 "cells": [
  {
   "cell_type": "markdown",
   "metadata": {},
   "source": [
    "# U.S. Medical Insurance Costs"
   ]
  },
  {
   "cell_type": "code",
   "execution_count": 1,
   "metadata": {},
   "outputs": [],
   "source": [
    "import csv"
   ]
  },
  {
   "cell_type": "code",
   "execution_count": 4,
   "metadata": {},
   "outputs": [],
   "source": [
    "##Getting info from csv file into python for analysis\n",
    "\n",
    "insurance_list =[] #list of dict to store our insurance data\n",
    "with open(\"insurance.csv\") as ins_data:\n",
    "    ins_dict = csv.DictReader(ins_data)\n",
    "    for data in ins_dict:\n",
    "        insurance_list.append(data)\n",
    "        \n",
    "#print(insurance_list)"
   ]
  },
  {
   "cell_type": "code",
   "execution_count": 6,
   "metadata": {},
   "outputs": [
    {
     "name": "stdout",
     "output_type": "stream",
     "text": [
      "dict_keys(['age', 'sex', 'bmi', 'children', 'smoker', 'region', 'charges'])\n"
     ]
    }
   ],
   "source": [
    "print(insurance_list[0].keys())"
   ]
  },
  {
   "cell_type": "code",
   "execution_count": 36,
   "metadata": {},
   "outputs": [],
   "source": [
    "## saving each data separately\n",
    "age_list =[]\n",
    "sex_list =[]\n",
    "bmi_list =[]\n",
    "children_list =[]\n",
    "smoker_list =[]\n",
    "region_list =[]\n",
    "charges_list =[]\n",
    "\n",
    "for data in insurance_list:\n",
    "    age_list.append(int(data[\"age\"]))\n",
    "    sex_list.append(data[\"sex\"])\n",
    "    bmi_list.append(float(data[\"bmi\"]))\n",
    "    children_list.append(int(data[\"children\"]))\n",
    "    smoker_list.append(data[\"smoker\"])\n",
    "    region_list.append(data[\"region\"])\n",
    "    charges_list.append(float(data[\"charges\"]))\n",
    "\n",
    "# print(age_list[:5])\n",
    "# print(sex_list[:5])\n",
    "# print(bmi_list[:5])\n",
    "# print(children_list[:5])\n",
    "# print(smoker_list[:5])\n",
    "# print(region_list[:5])\n",
    "# print(charges_list[:5])"
   ]
  },
  {
   "cell_type": "code",
   "execution_count": 12,
   "metadata": {},
   "outputs": [
    {
     "name": "stdout",
     "output_type": "stream",
     "text": [
      "3.0\n"
     ]
    }
   ],
   "source": [
    "## function to cal avg age - takes in a list of age\n",
    "def avg_age(age):\n",
    "    total=0\n",
    "    for num in age:\n",
    "        total+=num\n",
    "    avg = total/len(age)\n",
    "    return avg\n",
    "\n",
    "# testing avg_age func\n",
    "test_age_list =[1,2,3,4,5]\n",
    "avg_test_age_list = avg_age(test_age_list)\n",
    "print(avg_test_age_list) ##shld return 3"
   ]
  },
  {
   "cell_type": "code",
   "execution_count": 21,
   "metadata": {},
   "outputs": [
    {
     "name": "stdout",
     "output_type": "stream",
     "text": [
      "39.20702541106129\n"
     ]
    }
   ],
   "source": [
    "avg_patient_age = avg_age(age_list)\n",
    "print(avg_patient_age)"
   ]
  },
  {
   "cell_type": "code",
   "execution_count": 27,
   "metadata": {},
   "outputs": [
    {
     "data": {
      "text/plain": [
       "'e'"
      ]
     },
     "execution_count": 27,
     "metadata": {},
     "output_type": "execute_result"
    }
   ],
   "source": [
    "## function to determine area w majority patients - takes in a list of region\n",
    "def majority_area(region):\n",
    "    region_avail =[] #to find out what and how many regions there are\n",
    "    for r in region:\n",
    "        if r not in region_avail:\n",
    "            region_avail.append(r)\n",
    "            \n",
    "    region_dict ={} #create dict w region as key and item as num of ppl staying in the region\n",
    "    \n",
    "    for j in region_avail:\n",
    "        region_dict[j]= 0 #creates region as key\n",
    "        \n",
    "    for r in region:\n",
    "        region_dict[r] += 1 #input num of people in each region\n",
    "    \n",
    "    majority ='' #to capture region with most people\n",
    "    biggest = 0 #to capture number of people in biggest region\n",
    "    for key,item in region_dict.items():\n",
    "        if item >0:\n",
    "            majority = key\n",
    "            biggest = item\n",
    "    #print(majority, item)\n",
    "    return majority\n",
    "\n",
    "#testing func\n",
    "temp_region_list =['a','a','b','b','c','d','e','e','e','e']\n",
    "majority_area(temp_region_list) #shld print e 4\n",
    "        "
   ]
  },
  {
   "cell_type": "code",
   "execution_count": 28,
   "metadata": {},
   "outputs": [
    {
     "name": "stdout",
     "output_type": "stream",
     "text": [
      "northeast\n"
     ]
    }
   ],
   "source": [
    "majority_patient_region = majority_area(region_list)\n",
    "print(majority_patient_region)"
   ]
  },
  {
   "cell_type": "code",
   "execution_count": 38,
   "metadata": {},
   "outputs": [],
   "source": [
    "##function to cal avg age of people with at least x num of children - takes in list of age, list of num of child and x\n",
    "def avg_age_with_min_x_children(age,num_children,x):\n",
    "    age_num_children_pair = list(zip(age,num_children))\n",
    "    age_list_of_min_x_children =[]\n",
    "    for pair in age_num_children_pair:\n",
    "        if pair[1]>= x:\n",
    "            age_list_of_min_x_children.append(pair[0])\n",
    "    return round(avg_age(age_list_of_min_x_children),2) #round to 2dp\n",
    "#test func\n",
    "test_age_list =[1,2,3,4,5]\n",
    "test_num_child_list =[0,1,1,4,5]\n",
    "#avg_age_with_min_x_children(test_age_list,test_num_child_list,2) #shld return 4.5\n",
    "#avg_age_with_min_x_children(test_age_list,test_num_child_list,1) #shld return 3.5\n",
    "#avg_age_with_min_x_children(test_age_list,test_num_child_list,0) #shld return 3"
   ]
  },
  {
   "cell_type": "code",
   "execution_count": 39,
   "metadata": {},
   "outputs": [
    {
     "name": "stdout",
     "output_type": "stream",
     "text": [
      "Average age of patients with at least 1 child is: 39.78\n"
     ]
    }
   ],
   "source": [
    "print(\"Average age of patients with at least 1 child is: \"+ str(avg_age_with_min_x_children(age_list,children_list,1)))"
   ]
  },
  {
   "cell_type": "code",
   "execution_count": null,
   "metadata": {},
   "outputs": [],
   "source": []
  },
  {
   "cell_type": "code",
   "execution_count": null,
   "metadata": {},
   "outputs": [],
   "source": []
  }
 ],
 "metadata": {
  "kernelspec": {
   "display_name": "Python 3",
   "language": "python",
   "name": "python3"
  },
  "language_info": {
   "codemirror_mode": {
    "name": "ipython",
    "version": 3
   },
   "file_extension": ".py",
   "mimetype": "text/x-python",
   "name": "python",
   "nbconvert_exporter": "python",
   "pygments_lexer": "ipython3",
   "version": "3.8.8"
  }
 },
 "nbformat": 4,
 "nbformat_minor": 4
}
